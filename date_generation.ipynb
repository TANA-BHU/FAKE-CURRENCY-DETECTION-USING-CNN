{
 "cells": [
  {
   "cell_type": "code",
   "execution_count": 27,
   "metadata": {},
   "outputs": [],
   "source": [
    "import cv2\n",
    "import os\n",
    "def _ImageAugmentation(_path):\n",
    "\n",
    "    for img_name in os.listdir(_path):\n",
    "        image_path=os.path.join(_path,img_name)\n",
    "        image_file=cv2.imread(image_path)\n",
    "        image_file=cv2.resize(image_file,(128,128))\n",
    "        \n",
    "        # add operations......\n",
    "\n",
    "        height, width = image_file.shape[:2]\n",
    "        angle = 180\n",
    "        rotation_matrix = cv2.getRotationMatrix2D((width / 2, height / 2), angle, 1)\n",
    "\n",
    "        # Apply the rotation matrix to the image\n",
    "        rotated_image = cv2.warpAffine(image_file, rotation_matrix, (width, height))\n",
    "\n",
    "        blured_image=cv2.GaussianBlur(image_file,(7,7),0)\n",
    "        adjusted_image = cv2.convertScaleAbs(image_file, alpha=1.5, beta=30)\n",
    "        fliped_image_h=cv2.flip(image_file,1)\n",
    "        fliped_image_v=cv2.flip(image_file,0)\n",
    "\n",
    "        gray_image = cv2.cvtColor(image_file, cv2.COLOR_BGR2GRAY)\n",
    "        equalized_image = cv2.equalizeHist(gray_image)\n",
    "\n",
    "        # add canny edge.....\n",
    "        edged_image=cv2.Canny(image_file,100,200)\n",
    "\n",
    "        # save all images.......\n",
    "        cv2.imwrite(os.path.join(_path, f\"blurred2_{img_name}\"), blured_image)\n",
    "        cv2.imwrite(os.path.join(_path, f\"adjusted2_{img_name}\"), adjusted_image)\n",
    "        cv2.imwrite(os.path.join(_path, f\"flipped_h2_{img_name}\"), fliped_image_h)\n",
    "        cv2.imwrite(os.path.join(_path, f\"flipped_v2_{img_name}\"), fliped_image_v)\n",
    "        cv2.imwrite(os.path.join(_path, f\"equalized2_{img_name}\"), equalized_image)\n",
    "        cv2.imwrite(os.path.join(_path, f\"edged2_{img_name}\"), edged_image)\n",
    "\n",
    "        \n"
   ]
  },
  {
   "cell_type": "code",
   "execution_count": 28,
   "metadata": {},
   "outputs": [],
   "source": [
    "dir=\"/home/lagrangian/DEEP/FAKE NOTE DETECTION/FakeCurrencyDetectionSystem-master/Dataset/Training/Real\"\n",
    "_ImageAugmentation(dir)\n"
   ]
  }
 ],
 "metadata": {
  "kernelspec": {
   "display_name": "lag_ran",
   "language": "python",
   "name": "python3"
  },
  "language_info": {
   "codemirror_mode": {
    "name": "ipython",
    "version": 3
   },
   "file_extension": ".py",
   "mimetype": "text/x-python",
   "name": "python",
   "nbconvert_exporter": "python",
   "pygments_lexer": "ipython3",
   "version": "3.9.16"
  }
 },
 "nbformat": 4,
 "nbformat_minor": 2
}
